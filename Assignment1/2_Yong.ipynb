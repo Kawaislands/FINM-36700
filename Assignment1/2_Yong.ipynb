{
 "cells": [
  {
   "cell_type": "markdown",
   "id": "a7f83b15",
   "metadata": {},
   "source": [
    "# HW Group A 13"
   ]
  },
  {
   "cell_type": "markdown",
   "id": "f8f35eeb",
   "metadata": {},
   "source": [
    "## 2. Mean-Variance Optimization"
   ]
  },
  {
   "cell_type": "code",
   "execution_count": 36,
   "id": "2b50ef99",
   "metadata": {},
   "outputs": [],
   "source": [
    "import pandas as pd\n",
    "import numpy as np\n",
    "import csv\n",
    "import math\n",
    "import seaborn as sns\n",
    "from sklearn.linear_model import LinearRegression\n",
    "import matplotlib.pyplot as plt"
   ]
  },
  {
   "cell_type": "code",
   "execution_count": 5,
   "id": "cb7e9237",
   "metadata": {},
   "outputs": [],
   "source": [
    "price = pd.read_excel('multi_asset_etf_data.xlsx',sheet_name='prices', index_col=0)\n",
    "TR = pd.read_excel('multi_asset_etf_data.xlsx',sheet_name='total returns', index_col=0)\n",
    "ER = pd.read_excel('multi_asset_etf_data.xlsx',sheet_name='excess returns', index_col=0)"
   ]
  },
  {
   "cell_type": "code",
   "execution_count": 6,
   "id": "fa506d8b",
   "metadata": {
    "scrolled": true
   },
   "outputs": [
    {
     "data": {
      "text/html": [
       "<div>\n",
       "<style scoped>\n",
       "    .dataframe tbody tr th:only-of-type {\n",
       "        vertical-align: middle;\n",
       "    }\n",
       "\n",
       "    .dataframe tbody tr th {\n",
       "        vertical-align: top;\n",
       "    }\n",
       "\n",
       "    .dataframe thead th {\n",
       "        text-align: right;\n",
       "    }\n",
       "</style>\n",
       "<table border=\"1\" class=\"dataframe\">\n",
       "  <thead>\n",
       "    <tr style=\"text-align: right;\">\n",
       "      <th></th>\n",
       "      <th>BWX</th>\n",
       "      <th>DBC</th>\n",
       "      <th>EEM</th>\n",
       "      <th>EFA</th>\n",
       "      <th>HYG</th>\n",
       "      <th>IEF</th>\n",
       "      <th>IYR</th>\n",
       "      <th>PSP</th>\n",
       "      <th>QAI</th>\n",
       "      <th>SPY</th>\n",
       "      <th>TIP</th>\n",
       "    </tr>\n",
       "    <tr>\n",
       "      <th>Date</th>\n",
       "      <th></th>\n",
       "      <th></th>\n",
       "      <th></th>\n",
       "      <th></th>\n",
       "      <th></th>\n",
       "      <th></th>\n",
       "      <th></th>\n",
       "      <th></th>\n",
       "      <th></th>\n",
       "      <th></th>\n",
       "      <th></th>\n",
       "    </tr>\n",
       "  </thead>\n",
       "  <tbody>\n",
       "    <tr>\n",
       "      <th>2009-04-30</th>\n",
       "      <td>0.008441</td>\n",
       "      <td>-0.001553</td>\n",
       "      <td>0.155030</td>\n",
       "      <td>0.114637</td>\n",
       "      <td>0.137907</td>\n",
       "      <td>-0.028004</td>\n",
       "      <td>0.295598</td>\n",
       "      <td>0.229650</td>\n",
       "      <td>0.022329</td>\n",
       "      <td>0.098793</td>\n",
       "      <td>-0.018505</td>\n",
       "    </tr>\n",
       "    <tr>\n",
       "      <th>2009-05-31</th>\n",
       "      <td>0.054143</td>\n",
       "      <td>0.163134</td>\n",
       "      <td>0.159871</td>\n",
       "      <td>0.132389</td>\n",
       "      <td>0.029026</td>\n",
       "      <td>-0.020303</td>\n",
       "      <td>0.023198</td>\n",
       "      <td>0.054363</td>\n",
       "      <td>0.028336</td>\n",
       "      <td>0.058925</td>\n",
       "      <td>0.020437</td>\n",
       "    </tr>\n",
       "    <tr>\n",
       "      <th>2009-06-30</th>\n",
       "      <td>0.004550</td>\n",
       "      <td>-0.026858</td>\n",
       "      <td>-0.023094</td>\n",
       "      <td>-0.014648</td>\n",
       "      <td>0.032919</td>\n",
       "      <td>-0.006170</td>\n",
       "      <td>-0.025462</td>\n",
       "      <td>0.041443</td>\n",
       "      <td>-0.004035</td>\n",
       "      <td>-0.001254</td>\n",
       "      <td>0.001383</td>\n",
       "    </tr>\n",
       "    <tr>\n",
       "      <th>2009-07-31</th>\n",
       "      <td>0.031312</td>\n",
       "      <td>0.018595</td>\n",
       "      <td>0.110173</td>\n",
       "      <td>0.100442</td>\n",
       "      <td>0.069217</td>\n",
       "      <td>0.008344</td>\n",
       "      <td>0.105826</td>\n",
       "      <td>0.143274</td>\n",
       "      <td>0.015353</td>\n",
       "      <td>0.074633</td>\n",
       "      <td>0.000906</td>\n",
       "    </tr>\n",
       "    <tr>\n",
       "      <th>2009-08-31</th>\n",
       "      <td>0.007193</td>\n",
       "      <td>-0.040800</td>\n",
       "      <td>-0.013571</td>\n",
       "      <td>0.044595</td>\n",
       "      <td>-0.017404</td>\n",
       "      <td>0.007199</td>\n",
       "      <td>0.131504</td>\n",
       "      <td>0.032977</td>\n",
       "      <td>-0.004586</td>\n",
       "      <td>0.036504</td>\n",
       "      <td>0.007979</td>\n",
       "    </tr>\n",
       "  </tbody>\n",
       "</table>\n",
       "</div>"
      ],
      "text/plain": [
       "                 BWX       DBC       EEM       EFA       HYG       IEF  \\\n",
       "Date                                                                     \n",
       "2009-04-30  0.008441 -0.001553  0.155030  0.114637  0.137907 -0.028004   \n",
       "2009-05-31  0.054143  0.163134  0.159871  0.132389  0.029026 -0.020303   \n",
       "2009-06-30  0.004550 -0.026858 -0.023094 -0.014648  0.032919 -0.006170   \n",
       "2009-07-31  0.031312  0.018595  0.110173  0.100442  0.069217  0.008344   \n",
       "2009-08-31  0.007193 -0.040800 -0.013571  0.044595 -0.017404  0.007199   \n",
       "\n",
       "                 IYR       PSP       QAI       SPY       TIP  \n",
       "Date                                                          \n",
       "2009-04-30  0.295598  0.229650  0.022329  0.098793 -0.018505  \n",
       "2009-05-31  0.023198  0.054363  0.028336  0.058925  0.020437  \n",
       "2009-06-30 -0.025462  0.041443 -0.004035 -0.001254  0.001383  \n",
       "2009-07-31  0.105826  0.143274  0.015353  0.074633  0.000906  \n",
       "2009-08-31  0.131504  0.032977 -0.004586  0.036504  0.007979  "
      ]
     },
     "execution_count": 6,
     "metadata": {},
     "output_type": "execute_result"
    }
   ],
   "source": [
    "ER.head()"
   ]
  },
  {
   "cell_type": "markdown",
   "id": "1479dd9c",
   "metadata": {},
   "source": [
    "## (1) Summary Statistics"
   ]
  },
  {
   "cell_type": "markdown",
   "id": "ae8f57c9",
   "metadata": {},
   "source": [
    "### (a) Calculate and display the mean and volatility of each asset’s excess return. (Recall we use volatility to refer to standard deviation.)"
   ]
  },
  {
   "cell_type": "markdown",
   "id": "0310cf19",
   "metadata": {},
   "source": [
    "$\\bullet$ Assumptions regarding annualized returns and volatility, drawn from historical data for each asset, form the basis of the analysis."
   ]
  },
  {
   "cell_type": "code",
   "execution_count": 28,
   "id": "6ae6da91",
   "metadata": {},
   "outputs": [],
   "source": [
    "def summary_stats(df, annualization_factor):\n",
    "    mean = df.mean() * annualization_factor\n",
    "    volatility = df.std() * np.sqrt(annualization_factor)\n",
    "    sharpe = mean / volatility\n",
    "    return pd.DataFrame({'Mean': round(mean, 4), 'Volatility': round(volatility, 4), 'Sharpe Ratio': round(sharpe, 4)})"
   ]
  },
  {
   "cell_type": "code",
   "execution_count": 29,
   "id": "62d07223",
   "metadata": {
    "scrolled": true
   },
   "outputs": [
    {
     "data": {
      "text/html": [
       "<div>\n",
       "<style scoped>\n",
       "    .dataframe tbody tr th:only-of-type {\n",
       "        vertical-align: middle;\n",
       "    }\n",
       "\n",
       "    .dataframe tbody tr th {\n",
       "        vertical-align: top;\n",
       "    }\n",
       "\n",
       "    .dataframe thead th {\n",
       "        text-align: right;\n",
       "    }\n",
       "</style>\n",
       "<table border=\"1\" class=\"dataframe\">\n",
       "  <thead>\n",
       "    <tr style=\"text-align: right;\">\n",
       "      <th></th>\n",
       "      <th>BWX</th>\n",
       "      <th>DBC</th>\n",
       "      <th>EEM</th>\n",
       "      <th>EFA</th>\n",
       "      <th>HYG</th>\n",
       "      <th>IEF</th>\n",
       "      <th>IYR</th>\n",
       "      <th>PSP</th>\n",
       "      <th>QAI</th>\n",
       "      <th>SPY</th>\n",
       "      <th>TIP</th>\n",
       "    </tr>\n",
       "  </thead>\n",
       "  <tbody>\n",
       "    <tr>\n",
       "      <th>Mean</th>\n",
       "      <td>-0.0018</td>\n",
       "      <td>0.0254</td>\n",
       "      <td>0.0649</td>\n",
       "      <td>0.0816</td>\n",
       "      <td>0.0642</td>\n",
       "      <td>0.0143</td>\n",
       "      <td>0.1295</td>\n",
       "      <td>0.0799</td>\n",
       "      <td>0.0190</td>\n",
       "      <td>0.1437</td>\n",
       "      <td>0.0223</td>\n",
       "    </tr>\n",
       "    <tr>\n",
       "      <th>Volatility</th>\n",
       "      <td>0.0834</td>\n",
       "      <td>0.1790</td>\n",
       "      <td>0.1965</td>\n",
       "      <td>0.1660</td>\n",
       "      <td>0.0892</td>\n",
       "      <td>0.0624</td>\n",
       "      <td>0.1871</td>\n",
       "      <td>0.2274</td>\n",
       "      <td>0.0508</td>\n",
       "      <td>0.1477</td>\n",
       "      <td>0.0515</td>\n",
       "    </tr>\n",
       "    <tr>\n",
       "      <th>Sharpe Ratio</th>\n",
       "      <td>-0.0221</td>\n",
       "      <td>0.1422</td>\n",
       "      <td>0.3302</td>\n",
       "      <td>0.4916</td>\n",
       "      <td>0.7197</td>\n",
       "      <td>0.2287</td>\n",
       "      <td>0.6920</td>\n",
       "      <td>0.3516</td>\n",
       "      <td>0.3734</td>\n",
       "      <td>0.9732</td>\n",
       "      <td>0.4332</td>\n",
       "    </tr>\n",
       "  </tbody>\n",
       "</table>\n",
       "</div>"
      ],
      "text/plain": [
       "                 BWX     DBC     EEM     EFA     HYG     IEF     IYR     PSP  \\\n",
       "Mean         -0.0018  0.0254  0.0649  0.0816  0.0642  0.0143  0.1295  0.0799   \n",
       "Volatility    0.0834  0.1790  0.1965  0.1660  0.0892  0.0624  0.1871  0.2274   \n",
       "Sharpe Ratio -0.0221  0.1422  0.3302  0.4916  0.7197  0.2287  0.6920  0.3516   \n",
       "\n",
       "                 QAI     SPY     TIP  \n",
       "Mean          0.0190  0.1437  0.0223  \n",
       "Volatility    0.0508  0.1477  0.0515  \n",
       "Sharpe Ratio  0.3734  0.9732  0.4332  "
      ]
     },
     "execution_count": 29,
     "metadata": {},
     "output_type": "execute_result"
    }
   ],
   "source": [
    "summary_statistics = summary_stats(ER, 12)\n",
    "summary_statistics.transpose()"
   ]
  },
  {
   "cell_type": "markdown",
   "id": "236a3699",
   "metadata": {},
   "source": [
    "### (b) Which assets have the best and worst Sharpe ratios? Recall that the Sharpe Ratio is simply the ratio of the mean-to-volatility of excess returns:"
   ]
  },
  {
   "cell_type": "markdown",
   "id": "8f322732",
   "metadata": {},
   "source": [
    "$\\bullet$ The asset with the best Sharpe Ratio is SPY with a Sharpe ratio of 0.9732, and the asset with the worst Sharpe Ratio is BWX with a Sharpe ratio of -0.0221."
   ]
  },
  {
   "cell_type": "markdown",
   "id": "ddbc51ee",
   "metadata": {},
   "source": [
    "$\\bullet$ SPY's broad diversification, mirroring a diversified equity index, contributes to a balanced risk-return profile. Conversely, BWX’s specialized focus on foreign sovereign debt, constrained by index tracking, exposes it to specific risks such as currency and country-specific risks, affecting its Sharpe ratio negatively."
   ]
  },
  {
   "cell_type": "markdown",
   "id": "e065a992",
   "metadata": {},
   "source": [
    "$\\bullet$ The differing asset classes—equities for SPY and sovereign debt for BWX—result in distinct risk-return profiles. Historically, equities offer higher return potential though with increased volatility, while sovereign bonds are perceived as lower-risk with lesser return prospects."
   ]
  },
  {
   "cell_type": "code",
   "execution_count": 33,
   "id": "4426765c",
   "metadata": {},
   "outputs": [
    {
     "data": {
      "text/html": [
       "<div>\n",
       "<style scoped>\n",
       "    .dataframe tbody tr th:only-of-type {\n",
       "        vertical-align: middle;\n",
       "    }\n",
       "\n",
       "    .dataframe tbody tr th {\n",
       "        vertical-align: top;\n",
       "    }\n",
       "\n",
       "    .dataframe thead th {\n",
       "        text-align: right;\n",
       "    }\n",
       "</style>\n",
       "<table border=\"1\" class=\"dataframe\">\n",
       "  <thead>\n",
       "    <tr style=\"text-align: right;\">\n",
       "      <th></th>\n",
       "      <th>SPY</th>\n",
       "      <th>BWX</th>\n",
       "    </tr>\n",
       "  </thead>\n",
       "  <tbody>\n",
       "    <tr>\n",
       "      <th>Mean</th>\n",
       "      <td>0.1437</td>\n",
       "      <td>-0.0018</td>\n",
       "    </tr>\n",
       "    <tr>\n",
       "      <th>Volatility</th>\n",
       "      <td>0.1477</td>\n",
       "      <td>0.0834</td>\n",
       "    </tr>\n",
       "    <tr>\n",
       "      <th>Sharpe Ratio</th>\n",
       "      <td>0.9732</td>\n",
       "      <td>-0.0221</td>\n",
       "    </tr>\n",
       "  </tbody>\n",
       "</table>\n",
       "</div>"
      ],
      "text/plain": [
       "                 SPY     BWX\n",
       "Mean          0.1437 -0.0018\n",
       "Volatility    0.1477  0.0834\n",
       "Sharpe Ratio  0.9732 -0.0221"
      ]
     },
     "execution_count": 33,
     "metadata": {},
     "output_type": "execute_result"
    }
   ],
   "source": [
    "max_SR = summary_statistics.nlargest(1, 'Sharpe Ratio')\n",
    "min_SR = summary_statistics.nsmallest(1, 'Sharpe Ratio')\n",
    "pd.concat([max_SR,min_SR]).loc[:,['Mean','Volatility','Sharpe Ratio']].transpose()"
   ]
  },
  {
   "cell_type": "markdown",
   "id": "ef821ad0",
   "metadata": {},
   "source": [
    "## (2) Descriptive Analysis"
   ]
  },
  {
   "cell_type": "markdown",
   "id": "e74a18e1",
   "metadata": {},
   "source": [
    "### (a) Calculate the correlation matrix of the returns. Which pair has the highest correlation? And the lowest?"
   ]
  },
  {
   "cell_type": "code",
   "execution_count": 40,
   "id": "61322ba2",
   "metadata": {
    "scrolled": false
   },
   "outputs": [
    {
     "data": {
      "text/html": [
       "<div>\n",
       "<style scoped>\n",
       "    .dataframe tbody tr th:only-of-type {\n",
       "        vertical-align: middle;\n",
       "    }\n",
       "\n",
       "    .dataframe tbody tr th {\n",
       "        vertical-align: top;\n",
       "    }\n",
       "\n",
       "    .dataframe thead th {\n",
       "        text-align: right;\n",
       "    }\n",
       "</style>\n",
       "<table border=\"1\" class=\"dataframe\">\n",
       "  <thead>\n",
       "    <tr style=\"text-align: right;\">\n",
       "      <th></th>\n",
       "      <th>BWX</th>\n",
       "      <th>DBC</th>\n",
       "      <th>EEM</th>\n",
       "      <th>EFA</th>\n",
       "      <th>HYG</th>\n",
       "      <th>IEF</th>\n",
       "      <th>IYR</th>\n",
       "      <th>PSP</th>\n",
       "      <th>QAI</th>\n",
       "      <th>SPY</th>\n",
       "      <th>TIP</th>\n",
       "    </tr>\n",
       "  </thead>\n",
       "  <tbody>\n",
       "    <tr>\n",
       "      <th>BWX</th>\n",
       "      <td>1.0000</td>\n",
       "      <td>0.3498</td>\n",
       "      <td>0.6476</td>\n",
       "      <td>0.6217</td>\n",
       "      <td>0.5577</td>\n",
       "      <td>0.4345</td>\n",
       "      <td>0.4535</td>\n",
       "      <td>0.5249</td>\n",
       "      <td>0.6680</td>\n",
       "      <td>0.4657</td>\n",
       "      <td>0.6171</td>\n",
       "    </tr>\n",
       "    <tr>\n",
       "      <th>DBC</th>\n",
       "      <td>0.3498</td>\n",
       "      <td>1.0000</td>\n",
       "      <td>0.5657</td>\n",
       "      <td>0.5819</td>\n",
       "      <td>0.4732</td>\n",
       "      <td>-0.3217</td>\n",
       "      <td>0.3183</td>\n",
       "      <td>0.4961</td>\n",
       "      <td>0.5479</td>\n",
       "      <td>0.5099</td>\n",
       "      <td>0.1367</td>\n",
       "    </tr>\n",
       "    <tr>\n",
       "      <th>EEM</th>\n",
       "      <td>0.6476</td>\n",
       "      <td>0.5657</td>\n",
       "      <td>1.0000</td>\n",
       "      <td>0.8516</td>\n",
       "      <td>0.7260</td>\n",
       "      <td>-0.1023</td>\n",
       "      <td>0.6218</td>\n",
       "      <td>0.7717</td>\n",
       "      <td>0.8072</td>\n",
       "      <td>0.7346</td>\n",
       "      <td>0.3027</td>\n",
       "    </tr>\n",
       "    <tr>\n",
       "      <th>EFA</th>\n",
       "      <td>0.6217</td>\n",
       "      <td>0.5819</td>\n",
       "      <td>0.8516</td>\n",
       "      <td>1.0000</td>\n",
       "      <td>0.7715</td>\n",
       "      <td>-0.1323</td>\n",
       "      <td>0.6979</td>\n",
       "      <td>0.8919</td>\n",
       "      <td>0.8537</td>\n",
       "      <td>0.8716</td>\n",
       "      <td>0.2875</td>\n",
       "    </tr>\n",
       "    <tr>\n",
       "      <th>HYG</th>\n",
       "      <td>0.5577</td>\n",
       "      <td>0.4732</td>\n",
       "      <td>0.7260</td>\n",
       "      <td>0.7715</td>\n",
       "      <td>1.0000</td>\n",
       "      <td>-0.0086</td>\n",
       "      <td>0.7576</td>\n",
       "      <td>0.8238</td>\n",
       "      <td>0.7688</td>\n",
       "      <td>0.7704</td>\n",
       "      <td>0.3659</td>\n",
       "    </tr>\n",
       "    <tr>\n",
       "      <th>IEF</th>\n",
       "      <td>0.4345</td>\n",
       "      <td>-0.3217</td>\n",
       "      <td>-0.1023</td>\n",
       "      <td>-0.1323</td>\n",
       "      <td>-0.0086</td>\n",
       "      <td>1.0000</td>\n",
       "      <td>0.0736</td>\n",
       "      <td>-0.1187</td>\n",
       "      <td>0.0557</td>\n",
       "      <td>-0.1557</td>\n",
       "      <td>0.7061</td>\n",
       "    </tr>\n",
       "    <tr>\n",
       "      <th>IYR</th>\n",
       "      <td>0.4535</td>\n",
       "      <td>0.3183</td>\n",
       "      <td>0.6218</td>\n",
       "      <td>0.6979</td>\n",
       "      <td>0.7576</td>\n",
       "      <td>0.0736</td>\n",
       "      <td>1.0000</td>\n",
       "      <td>0.7602</td>\n",
       "      <td>0.6560</td>\n",
       "      <td>0.7536</td>\n",
       "      <td>0.3972</td>\n",
       "    </tr>\n",
       "    <tr>\n",
       "      <th>PSP</th>\n",
       "      <td>0.5249</td>\n",
       "      <td>0.4961</td>\n",
       "      <td>0.7717</td>\n",
       "      <td>0.8919</td>\n",
       "      <td>0.8238</td>\n",
       "      <td>-0.1187</td>\n",
       "      <td>0.7602</td>\n",
       "      <td>1.0000</td>\n",
       "      <td>0.8383</td>\n",
       "      <td>0.8957</td>\n",
       "      <td>0.3209</td>\n",
       "    </tr>\n",
       "    <tr>\n",
       "      <th>QAI</th>\n",
       "      <td>0.6680</td>\n",
       "      <td>0.5479</td>\n",
       "      <td>0.8072</td>\n",
       "      <td>0.8537</td>\n",
       "      <td>0.7688</td>\n",
       "      <td>0.0557</td>\n",
       "      <td>0.6560</td>\n",
       "      <td>0.8383</td>\n",
       "      <td>1.0000</td>\n",
       "      <td>0.8410</td>\n",
       "      <td>0.4597</td>\n",
       "    </tr>\n",
       "    <tr>\n",
       "      <th>SPY</th>\n",
       "      <td>0.4657</td>\n",
       "      <td>0.5099</td>\n",
       "      <td>0.7346</td>\n",
       "      <td>0.8716</td>\n",
       "      <td>0.7704</td>\n",
       "      <td>-0.1557</td>\n",
       "      <td>0.7536</td>\n",
       "      <td>0.8957</td>\n",
       "      <td>0.8410</td>\n",
       "      <td>1.0000</td>\n",
       "      <td>0.2946</td>\n",
       "    </tr>\n",
       "    <tr>\n",
       "      <th>TIP</th>\n",
       "      <td>0.6171</td>\n",
       "      <td>0.1367</td>\n",
       "      <td>0.3027</td>\n",
       "      <td>0.2875</td>\n",
       "      <td>0.3659</td>\n",
       "      <td>0.7061</td>\n",
       "      <td>0.3972</td>\n",
       "      <td>0.3209</td>\n",
       "      <td>0.4597</td>\n",
       "      <td>0.2946</td>\n",
       "      <td>1.0000</td>\n",
       "    </tr>\n",
       "  </tbody>\n",
       "</table>\n",
       "</div>"
      ],
      "text/plain": [
       "        BWX     DBC     EEM     EFA     HYG     IEF     IYR     PSP     QAI  \\\n",
       "BWX  1.0000  0.3498  0.6476  0.6217  0.5577  0.4345  0.4535  0.5249  0.6680   \n",
       "DBC  0.3498  1.0000  0.5657  0.5819  0.4732 -0.3217  0.3183  0.4961  0.5479   \n",
       "EEM  0.6476  0.5657  1.0000  0.8516  0.7260 -0.1023  0.6218  0.7717  0.8072   \n",
       "EFA  0.6217  0.5819  0.8516  1.0000  0.7715 -0.1323  0.6979  0.8919  0.8537   \n",
       "HYG  0.5577  0.4732  0.7260  0.7715  1.0000 -0.0086  0.7576  0.8238  0.7688   \n",
       "IEF  0.4345 -0.3217 -0.1023 -0.1323 -0.0086  1.0000  0.0736 -0.1187  0.0557   \n",
       "IYR  0.4535  0.3183  0.6218  0.6979  0.7576  0.0736  1.0000  0.7602  0.6560   \n",
       "PSP  0.5249  0.4961  0.7717  0.8919  0.8238 -0.1187  0.7602  1.0000  0.8383   \n",
       "QAI  0.6680  0.5479  0.8072  0.8537  0.7688  0.0557  0.6560  0.8383  1.0000   \n",
       "SPY  0.4657  0.5099  0.7346  0.8716  0.7704 -0.1557  0.7536  0.8957  0.8410   \n",
       "TIP  0.6171  0.1367  0.3027  0.2875  0.3659  0.7061  0.3972  0.3209  0.4597   \n",
       "\n",
       "        SPY     TIP  \n",
       "BWX  0.4657  0.6171  \n",
       "DBC  0.5099  0.1367  \n",
       "EEM  0.7346  0.3027  \n",
       "EFA  0.8716  0.2875  \n",
       "HYG  0.7704  0.3659  \n",
       "IEF -0.1557  0.7061  \n",
       "IYR  0.7536  0.3972  \n",
       "PSP  0.8957  0.3209  \n",
       "QAI  0.8410  0.4597  \n",
       "SPY  1.0000  0.2946  \n",
       "TIP  0.2946  1.0000  "
      ]
     },
     "execution_count": 40,
     "metadata": {},
     "output_type": "execute_result"
    }
   ],
   "source": [
    "corr_mat = round(ER.corr(), 4)\n",
    "corr_mat"
   ]
  },
  {
   "cell_type": "markdown",
   "id": "d409b239",
   "metadata": {},
   "source": [
    "$\\bullet$ The pair $\\textbf {SPY}$ and $\\textbf {PSP}$ has the $\\textbf {highest}$ correlation of $\\textbf {0.8957}$."
   ]
  },
  {
   "cell_type": "markdown",
   "id": "279889bb",
   "metadata": {},
   "source": [
    "$\\bullet$ The high correlation between SPY and PSP likely stems from their shared sensitivity to market movements, economic conditions, and investor sentiment. Both ETFs, although representing different market segments, are traded on recognized exchanges and can react similarly to overall market trends and liquidity conditions, causing their performances to mirror each other."
   ]
  },
  {
   "cell_type": "markdown",
   "id": "6a0ab907",
   "metadata": {},
   "source": [
    "$\\bullet$ The pair $\\textbf {DBC}$ and $\\textbf {IEF}$ has the $\\textbf {lowest}$ correlation of $\\textbf {-0.3217}$."
   ]
  },
  {
   "cell_type": "markdown",
   "id": "a194c7ea",
   "metadata": {},
   "source": [
    "$\\bullet$ The low correlation between DBC and IEF arises from their distinct asset classes and market influences. DBC, a commodity-focused fund, is affected by supply-demand dynamics and global economic conditions, while IEF, investing in U.S. Treasury securities, is influenced by U.S. monetary policy and interest rates. These differing market exposures lead to a divergence in their performance trends, resulting in a low correlation."
   ]
  },
  {
   "cell_type": "code",
   "execution_count": 184,
   "id": "0e59b855",
   "metadata": {},
   "outputs": [
    {
     "name": "stdout",
     "output_type": "stream",
     "text": [
      "Highest correlation pair is  ('PSP', 'SPY')\n",
      "Lowest correlation pair is  ('DBC', 'IEF')\n"
     ]
    }
   ],
   "source": [
    "corr = ER.corr()\n",
    "cov=ER.cov()\n",
    "stacked_corr = corr.stack()\n",
    "highest_corr_pairs = stacked_corr.nlargest(12)\n",
    "lowest_corr_pairs = stacked_corr.nsmallest(5)\n",
    "print('Highest correlation pair is ',highest_corr_pairs.index[11])\n",
    "print('Lowest correlation pair is ',lowest_corr_pairs.index[0])"
   ]
  },
  {
   "cell_type": "markdown",
   "id": "c4d60bec",
   "metadata": {},
   "source": [
    "### (b) How well have TIPS done in our sample? Have they outperformed domestic bonds? Foreign bonds?"
   ]
  },
  {
   "cell_type": "markdown",
   "id": "7776c5f0",
   "metadata": {},
   "source": [
    "$\\bullet$ $\\textbf {Yes}$, The data provided indicates that Treasury Inflation-Protected Securities (TIPS) have had a better performance with a mean return of 0.0223 compared to domestic bonds (IEF) with a 0.0143 mean return, and foreign bonds (BWX) which had a negative mean return of -0.0018. This suggests that TIPS were the more profitable investment over the analyzed period."
   ]
  },
  {
   "cell_type": "markdown",
   "id": "599893f3",
   "metadata": {},
   "source": [
    "$\\bullet$ Moreover, TIPS exhibited lower volatility (0.0515) compared to IEF (0.0624) and BWX (0.0834), indicating lower risk. The Sharpe Ratio further underscores this by showing TIPS had a better risk-adjusted performance of 0.4332, compared to 0.2287 for domestic bonds and -0.0221 for foreign bonds."
   ]
  },
  {
   "cell_type": "code",
   "execution_count": 46,
   "id": "4df5139c",
   "metadata": {},
   "outputs": [
    {
     "data": {
      "text/html": [
       "<div>\n",
       "<style scoped>\n",
       "    .dataframe tbody tr th:only-of-type {\n",
       "        vertical-align: middle;\n",
       "    }\n",
       "\n",
       "    .dataframe tbody tr th {\n",
       "        vertical-align: top;\n",
       "    }\n",
       "\n",
       "    .dataframe thead th {\n",
       "        text-align: right;\n",
       "    }\n",
       "</style>\n",
       "<table border=\"1\" class=\"dataframe\">\n",
       "  <thead>\n",
       "    <tr style=\"text-align: right;\">\n",
       "      <th></th>\n",
       "      <th>TIP</th>\n",
       "      <th>IEF</th>\n",
       "      <th>BWX</th>\n",
       "    </tr>\n",
       "  </thead>\n",
       "  <tbody>\n",
       "    <tr>\n",
       "      <th>Mean</th>\n",
       "      <td>0.0223</td>\n",
       "      <td>0.0143</td>\n",
       "      <td>-0.0018</td>\n",
       "    </tr>\n",
       "    <tr>\n",
       "      <th>Volatility</th>\n",
       "      <td>0.0515</td>\n",
       "      <td>0.0624</td>\n",
       "      <td>0.0834</td>\n",
       "    </tr>\n",
       "    <tr>\n",
       "      <th>Sharpe Ratio</th>\n",
       "      <td>0.4332</td>\n",
       "      <td>0.2287</td>\n",
       "      <td>-0.0221</td>\n",
       "    </tr>\n",
       "  </tbody>\n",
       "</table>\n",
       "</div>"
      ],
      "text/plain": [
       "                 TIP     IEF     BWX\n",
       "Mean          0.0223  0.0143 -0.0018\n",
       "Volatility    0.0515  0.0624  0.0834\n",
       "Sharpe Ratio  0.4332  0.2287 -0.0221"
      ]
     },
     "execution_count": 46,
     "metadata": {},
     "output_type": "execute_result"
    }
   ],
   "source": [
    "summary_statistics.loc[['TIP', 'IEF', 'BWX']].transpose()"
   ]
  },
  {
   "cell_type": "code",
   "execution_count": null,
   "id": "c948f52e",
   "metadata": {},
   "outputs": [],
   "source": []
  },
  {
   "cell_type": "code",
   "execution_count": null,
   "id": "be8b3fff",
   "metadata": {},
   "outputs": [],
   "source": []
  },
  {
   "cell_type": "code",
   "execution_count": null,
   "id": "9d743cc7",
   "metadata": {},
   "outputs": [],
   "source": []
  },
  {
   "cell_type": "code",
   "execution_count": 186,
   "id": "50f1572d",
   "metadata": {},
   "outputs": [
    {
     "name": "stdout",
     "output_type": "stream",
     "text": [
      "W_tan= [-1.46497414  0.02843646  0.26102769  0.45291399  1.52894242  1.89399165\n",
      " -0.24277199 -1.2710546  -3.13344544  2.58999871  0.35693524]\n"
     ]
    }
   ],
   "source": [
    "#calculate W_Tan based on fomulas\n",
    "W_tan=(1/(np.transpose(np.ones(11))@np.linalg.inv(cov)@mean))*np.linalg.inv(cov)@mean\n",
    "print('W_tan=',W_tan)"
   ]
  },
  {
   "cell_type": "code",
   "execution_count": 187,
   "id": "11c59392",
   "metadata": {},
   "outputs": [
    {
     "name": "stdout",
     "output_type": "stream",
     "text": [
      "The W_tan aligns perfectly with Sharpe ratio of each asset\n"
     ]
    }
   ],
   "source": [
    "print('The W_tan aligns perfectly with Sharpe ratio of each asset')"
   ]
  },
  {
   "cell_type": "code",
   "execution_count": 194,
   "id": "25870ed7",
   "metadata": {},
   "outputs": [
    {
     "name": "stdout",
     "output_type": "stream",
     "text": [
      "Mean of W_tan= 0.37531992061454567\n",
      "Volatility of W_tan= 0.05528789276868884\n",
      "Sharpe Ratio of W_tan= 6.788464920969106\n"
     ]
    }
   ],
   "source": [
    "mean_W_tan=np.transpose(W_tan)@mean\n",
    "vol_W_tan=math.sqrt(np.transpose(W_tan)@cov@W_tan)\n",
    "SP_W_tan=mean_W_tan/vol_W_tan\n",
    "print('Mean of W_tan=',mean_W_tan)\n",
    "print('Volatility of W_tan=',vol_W_tan)\n",
    "print('Sharpe Ratio of W_tan=',SP_W_tan)"
   ]
  },
  {
   "cell_type": "code",
   "execution_count": 195,
   "id": "1b643cf7",
   "metadata": {},
   "outputs": [
    {
     "name": "stdout",
     "output_type": "stream",
     "text": [
      "[-1.51274965  0.05515758  0.27808582  0.44149597  1.5931398   2.21245096\n",
      " -0.24589531 -1.31409179 -3.23895589  2.73136252]\n",
      "Mean of W_tan without TIP= 0.3862908162901122\n",
      "Volatility of W_tan without TIP= 0.10751662610569362\n",
      "Sharpe Ratio of W_tan without TIP= 3.592847267271679\n"
     ]
    }
   ],
   "source": [
    "#We drop Tip in ER\n",
    "ER1=ER.drop('TIP', axis=1)\n",
    "W_tan1=(1/(np.transpose(np.ones(10))@np.linalg.inv(ER1.cov()*math.sqrt(12))@ER1.mean()*12))*np.linalg.inv(ER1.cov()*math.sqrt(12))@ER1.mean()*12\n",
    "print(W_tan1)\n",
    "mean_W_tan1=np.transpose(W_tan1)@ER1.mean()*12\n",
    "vol_W_tan1=math.sqrt(np.transpose(W_tan1)@ER1.cov()*math.sqrt(12)@W_tan1)\n",
    "SP_W_tan1=mean_W_tan1/vol_W_tan1\n",
    "print('Mean of W_tan without TIP=',mean_W_tan1)\n",
    "print('Volatility of W_tan without TIP=',vol_W_tan1)\n",
    "print('Sharpe Ratio of W_tan without TIP=',SP_W_tan1)"
   ]
  },
  {
   "cell_type": "code",
   "execution_count": 196,
   "id": "5a328832",
   "metadata": {},
   "outputs": [
    {
     "name": "stdout",
     "output_type": "stream",
     "text": [
      "[-1.12679503 -0.16070899  0.14028166  0.53373651  1.07452112 -0.36022334\n",
      " -0.22066354 -0.96641575 -2.38658944  1.5893546   2.8835022 ]\n",
      "Mean of W_tan adjusting TIP= 0.3391848411984788\n",
      "Volatility of W_tan adjusting TIP= 0.08082046831461605\n",
      "Sharpe Ratio of W_tan adjusting TIP= 4.196769064466539\n"
     ]
    }
   ],
   "source": [
    "ER['TIP']+=0.0012\n",
    "W_tan2=(1/(np.transpose(np.ones(11))@np.linalg.inv(ER.cov()*math.sqrt(12))@ER.mean()*12))*np.linalg.inv(ER.cov()*math.sqrt(12))@ER.mean()*12\n",
    "print(W_tan2)\n",
    "mean_W_tan2=np.transpose(W_tan2)@ER.mean()*12\n",
    "vol_W_tan2=math.sqrt(np.transpose(W_tan2)@ER.cov()*math.sqrt(12)@W_tan2)\n",
    "SP_W_tan2=mean_W_tan2/vol_W_tan2\n",
    "print('Mean of W_tan adjusting TIP=',mean_W_tan2)\n",
    "print('Volatility of W_tan adjusting TIP=',vol_W_tan2)\n",
    "print('Sharpe Ratio of W_tan adjusting TIP=',SP_W_tan2)"
   ]
  },
  {
   "cell_type": "code",
   "execution_count": null,
   "id": "a4b60564",
   "metadata": {},
   "outputs": [],
   "source": []
  }
 ],
 "metadata": {
  "kernelspec": {
   "display_name": "Python 3 (ipykernel)",
   "language": "python",
   "name": "python3"
  },
  "language_info": {
   "codemirror_mode": {
    "name": "ipython",
    "version": 3
   },
   "file_extension": ".py",
   "mimetype": "text/x-python",
   "name": "python",
   "nbconvert_exporter": "python",
   "pygments_lexer": "ipython3",
   "version": "3.9.12"
  }
 },
 "nbformat": 4,
 "nbformat_minor": 5
}
