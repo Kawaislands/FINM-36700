{
 "cells": [
  {
   "cell_type": "code",
   "execution_count": 174,
   "id": "2b50ef99",
   "metadata": {},
   "outputs": [],
   "source": [
    "import pandas as pd\n",
    "import numpy as np\n",
    "import csv\n",
    "import math\n",
    "from sklearn.linear_model import LinearRegression\n",
    "import matplotlib.pyplot as plt"
   ]
  },
  {
   "cell_type": "code",
   "execution_count": 175,
   "id": "cb7e9237",
   "metadata": {},
   "outputs": [],
   "source": [
    "price = pd.read_excel('multi_asset_etf_data.xlsx',sheet_name='prices', index_col=0)\n",
    "TR=pd.read_excel('multi_asset_etf_data.xlsx',sheet_name='total returns', index_col=0)\n",
    "ER=pd.read_excel('multi_asset_etf_data.xlsx',sheet_name='excess returns', index_col=0)"
   ]
  },
  {
   "cell_type": "code",
   "execution_count": 176,
   "id": "fa506d8b",
   "metadata": {},
   "outputs": [
    {
     "data": {
      "text/html": [
       "<div>\n",
       "<style scoped>\n",
       "    .dataframe tbody tr th:only-of-type {\n",
       "        vertical-align: middle;\n",
       "    }\n",
       "\n",
       "    .dataframe tbody tr th {\n",
       "        vertical-align: top;\n",
       "    }\n",
       "\n",
       "    .dataframe thead th {\n",
       "        text-align: right;\n",
       "    }\n",
       "</style>\n",
       "<table border=\"1\" class=\"dataframe\">\n",
       "  <thead>\n",
       "    <tr style=\"text-align: right;\">\n",
       "      <th></th>\n",
       "      <th>BWX</th>\n",
       "      <th>DBC</th>\n",
       "      <th>EEM</th>\n",
       "      <th>EFA</th>\n",
       "      <th>HYG</th>\n",
       "      <th>IEF</th>\n",
       "      <th>IYR</th>\n",
       "      <th>PSP</th>\n",
       "      <th>QAI</th>\n",
       "      <th>SPY</th>\n",
       "      <th>TIP</th>\n",
       "    </tr>\n",
       "    <tr>\n",
       "      <th>Date</th>\n",
       "      <th></th>\n",
       "      <th></th>\n",
       "      <th></th>\n",
       "      <th></th>\n",
       "      <th></th>\n",
       "      <th></th>\n",
       "      <th></th>\n",
       "      <th></th>\n",
       "      <th></th>\n",
       "      <th></th>\n",
       "      <th></th>\n",
       "    </tr>\n",
       "  </thead>\n",
       "  <tbody>\n",
       "    <tr>\n",
       "      <th>2009-04-30</th>\n",
       "      <td>0.008441</td>\n",
       "      <td>-0.001553</td>\n",
       "      <td>0.155030</td>\n",
       "      <td>0.114637</td>\n",
       "      <td>0.137907</td>\n",
       "      <td>-0.028004</td>\n",
       "      <td>0.295598</td>\n",
       "      <td>0.229650</td>\n",
       "      <td>0.022329</td>\n",
       "      <td>0.098793</td>\n",
       "      <td>-0.018505</td>\n",
       "    </tr>\n",
       "    <tr>\n",
       "      <th>2009-05-31</th>\n",
       "      <td>0.054143</td>\n",
       "      <td>0.163134</td>\n",
       "      <td>0.159871</td>\n",
       "      <td>0.132389</td>\n",
       "      <td>0.029026</td>\n",
       "      <td>-0.020303</td>\n",
       "      <td>0.023198</td>\n",
       "      <td>0.054363</td>\n",
       "      <td>0.028336</td>\n",
       "      <td>0.058925</td>\n",
       "      <td>0.020437</td>\n",
       "    </tr>\n",
       "    <tr>\n",
       "      <th>2009-06-30</th>\n",
       "      <td>0.004550</td>\n",
       "      <td>-0.026858</td>\n",
       "      <td>-0.023094</td>\n",
       "      <td>-0.014648</td>\n",
       "      <td>0.032919</td>\n",
       "      <td>-0.006170</td>\n",
       "      <td>-0.025462</td>\n",
       "      <td>0.041443</td>\n",
       "      <td>-0.004035</td>\n",
       "      <td>-0.001254</td>\n",
       "      <td>0.001383</td>\n",
       "    </tr>\n",
       "    <tr>\n",
       "      <th>2009-07-31</th>\n",
       "      <td>0.031312</td>\n",
       "      <td>0.018595</td>\n",
       "      <td>0.110173</td>\n",
       "      <td>0.100442</td>\n",
       "      <td>0.069217</td>\n",
       "      <td>0.008344</td>\n",
       "      <td>0.105826</td>\n",
       "      <td>0.143274</td>\n",
       "      <td>0.015353</td>\n",
       "      <td>0.074633</td>\n",
       "      <td>0.000906</td>\n",
       "    </tr>\n",
       "    <tr>\n",
       "      <th>2009-08-31</th>\n",
       "      <td>0.007193</td>\n",
       "      <td>-0.040800</td>\n",
       "      <td>-0.013571</td>\n",
       "      <td>0.044595</td>\n",
       "      <td>-0.017404</td>\n",
       "      <td>0.007199</td>\n",
       "      <td>0.131504</td>\n",
       "      <td>0.032977</td>\n",
       "      <td>-0.004586</td>\n",
       "      <td>0.036504</td>\n",
       "      <td>0.007979</td>\n",
       "    </tr>\n",
       "  </tbody>\n",
       "</table>\n",
       "</div>"
      ],
      "text/plain": [
       "                 BWX       DBC       EEM       EFA       HYG       IEF  \\\n",
       "Date                                                                     \n",
       "2009-04-30  0.008441 -0.001553  0.155030  0.114637  0.137907 -0.028004   \n",
       "2009-05-31  0.054143  0.163134  0.159871  0.132389  0.029026 -0.020303   \n",
       "2009-06-30  0.004550 -0.026858 -0.023094 -0.014648  0.032919 -0.006170   \n",
       "2009-07-31  0.031312  0.018595  0.110173  0.100442  0.069217  0.008344   \n",
       "2009-08-31  0.007193 -0.040800 -0.013571  0.044595 -0.017404  0.007199   \n",
       "\n",
       "                 IYR       PSP       QAI       SPY       TIP  \n",
       "Date                                                          \n",
       "2009-04-30  0.295598  0.229650  0.022329  0.098793 -0.018505  \n",
       "2009-05-31  0.023198  0.054363  0.028336  0.058925  0.020437  \n",
       "2009-06-30 -0.025462  0.041443 -0.004035 -0.001254  0.001383  \n",
       "2009-07-31  0.105826  0.143274  0.015353  0.074633  0.000906  \n",
       "2009-08-31  0.131504  0.032977 -0.004586  0.036504  0.007979  "
      ]
     },
     "execution_count": 176,
     "metadata": {},
     "output_type": "execute_result"
    }
   ],
   "source": [
    "ER.head()"
   ]
  },
  {
   "cell_type": "code",
   "execution_count": 193,
   "id": "fd4ca64d",
   "metadata": {},
   "outputs": [
    {
     "name": "stdout",
     "output_type": "stream",
     "text": [
      "Mean\n",
      " [-0.00184326  0.02544345  0.06488728  0.08159688  0.06416829  0.01426904\n",
      "  0.12947332  0.07993823  0.01897443  0.14372749  0.03672076]\n",
      "\n",
      "Volatility\n",
      " [0.08335856 0.17897535 0.19653122 0.16599122 0.08915408 0.06240508\n",
      " 0.18710106 0.22738651 0.05080985 0.14767864 0.05152929]\n",
      "\n",
      "Sharpe Ratio\n",
      " [-0.0221124   0.14216176  0.3301627   0.49157349  0.71974602  0.22865192\n",
      "  0.69199673  0.35155222  0.37343997  0.97324498  0.71261912]\n"
     ]
    }
   ],
   "source": [
    "mean = np.array(ER.mean(axis=0)*12)\n",
    "vol=np.array(ER.std()*math.sqrt(12))\n",
    "SP=mean/vol\n",
    "print('Mean\\n',mean)\n",
    "print('\\nVolatility\\n',vol)\n",
    "print('\\nSharpe Ratio\\n',SP)"
   ]
  },
  {
   "cell_type": "code",
   "execution_count": 180,
   "id": "d4b2d4e4",
   "metadata": {},
   "outputs": [
    {
     "name": "stdout",
     "output_type": "stream",
     "text": [
      "The asset with largest Sharpe ratio is SPY\n",
      "The asset with worst Sharpe ratio is BWX\n"
     ]
    }
   ],
   "source": [
    "print('The asset with largest Sharpe ratio is', ER.columns[np.argmax(SP)])\n",
    "print('The asset with worst Sharpe ratio is', ER.columns[np.argmin(SP)])"
   ]
  },
  {
   "cell_type": "code",
   "execution_count": 184,
   "id": "0e59b855",
   "metadata": {},
   "outputs": [
    {
     "name": "stdout",
     "output_type": "stream",
     "text": [
      "Highest correlation pair is  ('PSP', 'SPY')\n",
      "Lowest correlation pair is  ('DBC', 'IEF')\n"
     ]
    }
   ],
   "source": [
    "corr = ER.corr()\n",
    "cov=ER.cov()\n",
    "stacked_corr = corr.stack()\n",
    "highest_corr_pairs = stacked_corr.nlargest(12)\n",
    "lowest_corr_pairs = stacked_corr.nsmallest(5)\n",
    "print('Highest correlation pair is ',highest_corr_pairs.index[11])\n",
    "print('Lowest correlation pair is ',lowest_corr_pairs.index[0])"
   ]
  },
  {
   "cell_type": "code",
   "execution_count": 186,
   "id": "50f1572d",
   "metadata": {},
   "outputs": [
    {
     "name": "stdout",
     "output_type": "stream",
     "text": [
      "W_tan= [-1.46497414  0.02843646  0.26102769  0.45291399  1.52894242  1.89399165\n",
      " -0.24277199 -1.2710546  -3.13344544  2.58999871  0.35693524]\n"
     ]
    }
   ],
   "source": [
    "#calculate W_Tan based on fomulas\n",
    "W_tan=(1/(np.transpose(np.ones(11))@np.linalg.inv(cov)@mean))*np.linalg.inv(cov)@mean\n",
    "print('W_tan=',W_tan)"
   ]
  },
  {
   "cell_type": "code",
   "execution_count": 187,
   "id": "11c59392",
   "metadata": {},
   "outputs": [
    {
     "name": "stdout",
     "output_type": "stream",
     "text": [
      "The W_tan aligns perfectly with Sharpe ratio of each asset\n"
     ]
    }
   ],
   "source": [
    "print('The W_tan aligns perfectly with Sharpe ratio of each asset')"
   ]
  },
  {
   "cell_type": "code",
   "execution_count": 194,
   "id": "25870ed7",
   "metadata": {},
   "outputs": [
    {
     "name": "stdout",
     "output_type": "stream",
     "text": [
      "Mean of W_tan= 0.37531992061454567\n",
      "Volatility of W_tan= 0.05528789276868884\n",
      "Sharpe Ratio of W_tan= 6.788464920969106\n"
     ]
    }
   ],
   "source": [
    "mean_W_tan=np.transpose(W_tan)@mean\n",
    "vol_W_tan=math.sqrt(np.transpose(W_tan)@cov@W_tan)\n",
    "SP_W_tan=mean_W_tan/vol_W_tan\n",
    "print('Mean of W_tan=',mean_W_tan)\n",
    "print('Volatility of W_tan=',vol_W_tan)\n",
    "print('Sharpe Ratio of W_tan=',SP_W_tan)"
   ]
  },
  {
   "cell_type": "code",
   "execution_count": 195,
   "id": "1b643cf7",
   "metadata": {},
   "outputs": [
    {
     "name": "stdout",
     "output_type": "stream",
     "text": [
      "[-1.51274965  0.05515758  0.27808582  0.44149597  1.5931398   2.21245096\n",
      " -0.24589531 -1.31409179 -3.23895589  2.73136252]\n",
      "Mean of W_tan without TIP= 0.3862908162901122\n",
      "Volatility of W_tan without TIP= 0.10751662610569362\n",
      "Sharpe Ratio of W_tan without TIP= 3.592847267271679\n"
     ]
    }
   ],
   "source": [
    "#We drop Tip in ER\n",
    "ER1=ER.drop('TIP', axis=1)\n",
    "W_tan1=(1/(np.transpose(np.ones(10))@np.linalg.inv(ER1.cov()*math.sqrt(12))@ER1.mean()*12))*np.linalg.inv(ER1.cov()*math.sqrt(12))@ER1.mean()*12\n",
    "print(W_tan1)\n",
    "mean_W_tan1=np.transpose(W_tan1)@ER1.mean()*12\n",
    "vol_W_tan1=math.sqrt(np.transpose(W_tan1)@ER1.cov()*math.sqrt(12)@W_tan1)\n",
    "SP_W_tan1=mean_W_tan1/vol_W_tan1\n",
    "print('Mean of W_tan without TIP=',mean_W_tan1)\n",
    "print('Volatility of W_tan without TIP=',vol_W_tan1)\n",
    "print('Sharpe Ratio of W_tan without TIP=',SP_W_tan1)"
   ]
  },
  {
   "cell_type": "code",
   "execution_count": 196,
   "id": "5a328832",
   "metadata": {},
   "outputs": [
    {
     "name": "stdout",
     "output_type": "stream",
     "text": [
      "[-1.12679503 -0.16070899  0.14028166  0.53373651  1.07452112 -0.36022334\n",
      " -0.22066354 -0.96641575 -2.38658944  1.5893546   2.8835022 ]\n",
      "Mean of W_tan adjusting TIP= 0.3391848411984788\n",
      "Volatility of W_tan adjusting TIP= 0.08082046831461605\n",
      "Sharpe Ratio of W_tan adjusting TIP= 4.196769064466539\n"
     ]
    }
   ],
   "source": [
    "ER['TIP']+=0.0012\n",
    "W_tan2=(1/(np.transpose(np.ones(11))@np.linalg.inv(ER.cov()*math.sqrt(12))@ER.mean()*12))*np.linalg.inv(ER.cov()*math.sqrt(12))@ER.mean()*12\n",
    "print(W_tan2)\n",
    "mean_W_tan2=np.transpose(W_tan2)@ER.mean()*12\n",
    "vol_W_tan2=math.sqrt(np.transpose(W_tan2)@ER.cov()*math.sqrt(12)@W_tan2)\n",
    "SP_W_tan2=mean_W_tan2/vol_W_tan2\n",
    "print('Mean of W_tan adjusting TIP=',mean_W_tan2)\n",
    "print('Volatility of W_tan adjusting TIP=',vol_W_tan2)\n",
    "print('Sharpe Ratio of W_tan adjusting TIP=',SP_W_tan2)"
   ]
  },
  {
   "cell_type": "code",
   "execution_count": null,
   "id": "a4b60564",
   "metadata": {},
   "outputs": [],
   "source": []
  }
 ],
 "metadata": {
  "kernelspec": {
   "display_name": "Python 3",
   "language": "python",
   "name": "python3"
  },
  "language_info": {
   "codemirror_mode": {
    "name": "ipython",
    "version": 3
   },
   "file_extension": ".py",
   "mimetype": "text/x-python",
   "name": "python",
   "nbconvert_exporter": "python",
   "pygments_lexer": "ipython3",
   "version": "3.8.8"
  }
 },
 "nbformat": 4,
 "nbformat_minor": 5
}
